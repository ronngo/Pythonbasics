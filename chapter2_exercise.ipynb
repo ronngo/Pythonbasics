{
  "nbformat": 4,
  "nbformat_minor": 0,
  "metadata": {
    "colab": {
      "name": "Untitled0.ipynb",
      "provenance": [],
      "authorship_tag": "ABX9TyNE11ynRWVZ2sMLHEndwowh",
      "include_colab_link": true
    },
    "kernelspec": {
      "name": "python3",
      "display_name": "Python 3"
    }
  },
  "cells": [
    {
      "cell_type": "markdown",
      "metadata": {
        "id": "view-in-github",
        "colab_type": "text"
      },
      "source": [
        "<a href=\"https://colab.research.google.com/github/ronngo/Pythonbasics/blob/main/chapter2_exercise.ipynb\" target=\"_parent\"><img src=\"https://colab.research.google.com/assets/colab-badge.svg\" alt=\"Open In Colab\"/></a>"
      ]
    },
    {
      "cell_type": "markdown",
      "metadata": {
        "id": "sMJ5KoiBMARd"
      },
      "source": [
        "**BÀI TẬP LẬP TRÌNH CHƯƠNG 2**\n",
        "\n",
        "Bài 1: Lập trình nhập vào từ bàn phím 2 số nguyên và tính:\n",
        "\n",
        "\n",
        "1.   Tổng của 2 số\n",
        "2.   Tích của 2 số\n",
        "3.   Hiệu của 2 số\n",
        "4.   Phép chia lấy phần dư của 2 số\n",
        "5.   Phép chia lấy phần nguyên của 2 số\n",
        "\n",
        "Kết quả xuất ra màn hình\n",
        "\n"
      ]
    },
    {
      "cell_type": "code",
      "metadata": {
        "id": "Os5z0wPpL1Nk",
        "colab": {
          "base_uri": "https://localhost:8080/"
        },
        "outputId": "b1f5f3c1-4a81-4988-be0a-255d9afabad1"
      },
      "source": [
        "#Tổng của 2 số,Tích của 2 số,Hiệu của 2 số,Phép chia lấy phần dư của 2 số,Phép chia lấy phần nguyên của 2 số\n",
        "\n",
        "a = input(\"a=\")\n",
        "b= input(\"b=\")\n",
        "a = int(a)\n",
        "b= int(b)\n",
        "c=a+b\n",
        "d=a-b\n",
        "e=a*b\n",
        "f=a%b\n",
        "g=a//b\n",
        "print(\"a+b=\",c)\n",
        "print(\"a-b=\",d)\n",
        "print(\"a*b=\",e)\n",
        "print(\"a%b=\",f)\n",
        "print(\"a//b=\",g)\n"
      ],
      "execution_count": 1,
      "outputs": [
        {
          "output_type": "stream",
          "text": [
            "a=1\n",
            "b=6\n",
            "a+b= 7\n",
            "a-b= -5\n",
            "a*b= 6\n",
            "a%b= 1\n",
            "a//b= 0\n"
          ],
          "name": "stdout"
        }
      ]
    },
    {
      "cell_type": "markdown",
      "metadata": {
        "id": "j2suJwVPM5Zk"
      },
      "source": [
        "Bài 2: Lập trình nhập vào từ bàn phím 2 số thực và tính:\n",
        "\n",
        "1.   Tổng của 2 số\n",
        "2.   Tích của 2 số\n",
        "3.   Hiệu của 2 số\n",
        "4.   Thương của 2 số\n",
        "\n",
        "Kết quả xuất ra màn hình"
      ]
    },
    {
      "cell_type": "code",
      "metadata": {
        "id": "fmlD-ggRMh9q",
        "colab": {
          "base_uri": "https://localhost:8080/"
        },
        "outputId": "a3530798-b754-4107-e6b5-cea127455720"
      },
      "source": [
        "a = input(\"a=\")\n",
        "b= input(\"b=\")\n",
        "a = float(a)\n",
        "b= float(b)\n",
        "c=a+b\n",
        "d=a-b\n",
        "e=a*b\n",
        "f=a/b\n",
        "\n",
        "print(\"a+b=\",c)\n",
        "print(\"a-b=\",d)\n",
        "print(\"a*b=\",e)\n",
        "print(\"a%b=\",f)\n",
        "\n"
      ],
      "execution_count": 2,
      "outputs": [
        {
          "output_type": "stream",
          "text": [
            "a=2\n",
            "b=3\n",
            "a+b= 5.0\n",
            "a-b= -1.0\n",
            "a*b= 6.0\n",
            "a%b= 0.6666666666666666\n"
          ],
          "name": "stdout"
        }
      ]
    },
    {
      "cell_type": "markdown",
      "metadata": {
        "id": "sOCly6AvNUAN"
      },
      "source": [
        "Bài 3: (Sử dụng các hàm toán học) Nhập một số từ bàn phím và tính:\n",
        "\n",
        "\n",
        "\n",
        "1.   Trị tuyệt đối\n",
        "2.   Lấy phần nguyên của số\n",
        "3.   Chuyển đổi thành số thực\n",
        "4.   (nhập thêm 1 số từ bàn phím) và tính lũy thừa $ x^y $\n",
        "5.   Tính căn bậc hai\n",
        "\n",
        "Kết quả xuất ra màn hình\n",
        "\n"
      ]
    },
    {
      "cell_type": "code",
      "metadata": {
        "id": "XNKN4yAoOUAa",
        "colab": {
          "base_uri": "https://localhost:8080/"
        },
        "outputId": "e399c10b-e7dd-4c31-d67f-d13c7c5180d2"
      },
      "source": [
        "#Trị tuyệt đối\n",
        "\n",
        "a = input(\"a=\")\n",
        "\n",
        "a = float(a)\n",
        "\n",
        "\n",
        "print('Giá trị tuyệt đối của ',a, 'là: ', abs(a))\n",
        "\n",
        "\n",
        "\n"
      ],
      "execution_count": null,
      "outputs": [
        {
          "output_type": "stream",
          "text": [
            "a=-5\n",
            "Giá trị tuyệt đối của  -5.0 là:  5.0\n"
          ],
          "name": "stdout"
        }
      ]
    },
    {
      "cell_type": "code",
      "metadata": {
        "id": "ZQWHqTGpBgVL",
        "colab": {
          "base_uri": "https://localhost:8080/"
        },
        "outputId": "37509d73-551a-4523-e9c8-e8cc65a93173"
      },
      "source": [
        "#Lấy phần nguyên của số\r\n",
        "\r\n",
        "a = input(\"a=\")\r\n",
        "b = 1\r\n",
        "a = float(a)\r\n",
        "print('Lấy phần nguyên của số ',a, 'là: ', a//b)"
      ],
      "execution_count": null,
      "outputs": [
        {
          "output_type": "stream",
          "text": [
            "a=6\n",
            "Lấy phần nguyên của số  6.0 là:  6.0\n"
          ],
          "name": "stdout"
        }
      ]
    },
    {
      "cell_type": "code",
      "metadata": {
        "id": "v-z_1wF-BmPC",
        "colab": {
          "base_uri": "https://localhost:8080/"
        },
        "outputId": "3115df8e-0baa-4a2c-b4be-9d607ecb6d0f"
      },
      "source": [
        "#Chuyển đổi thành số thực\r\n",
        "\r\n",
        "a = input(\"a=\")\r\n",
        "a = float(a)\r\n",
        "print('chuyển ĐỔI THÀNH SỐ THỰC ',a, 'là: ', a)"
      ],
      "execution_count": null,
      "outputs": [
        {
          "output_type": "stream",
          "text": [
            "a=4.3\n",
            "chuyển ĐỔI THÀNH SỐ THỰC  4.3 là:  4.3\n"
          ],
          "name": "stdout"
        }
      ]
    },
    {
      "cell_type": "code",
      "metadata": {
        "id": "bHP23N3cCFcy",
        "colab": {
          "base_uri": "https://localhost:8080/"
        },
        "outputId": "4447b942-0bc2-4d3f-bb73-9fd50cd44aaa"
      },
      "source": [
        "#(nhập thêm 1 số từ bàn phím) và tính lũy thừa  xy\r\n",
        "\r\n",
        "a = input(\"a=\")\r\n",
        "b= input(\"b=\")\r\n",
        "a = int(a)\r\n",
        "b= int(b)\r\n",
        "c=a**b\r\n",
        "print(a,'lũy thừa ',b, 'là: ', c)"
      ],
      "execution_count": null,
      "outputs": [
        {
          "output_type": "stream",
          "text": [
            "a=5\n",
            "b=7\n",
            "5 lũy thừa  7 là:  78125\n"
          ],
          "name": "stdout"
        }
      ]
    },
    {
      "cell_type": "code",
      "metadata": {
        "id": "4i7r7i6ACUoB",
        "colab": {
          "base_uri": "https://localhost:8080/"
        },
        "outputId": "216f1dd1-304b-471b-9b2b-a51b78b9dcca"
      },
      "source": [
        "#Tính căn bậc hai\r\n",
        "\r\n",
        "import math\r\n",
        " \r\n",
        "print(\"Vui lòng nhập số cần tính căn bậc hai!\")\r\n",
        "number = float(input());\r\n",
        " \r\n",
        "print(\"Căn bậc hai của số \", number, ' là: ', math.sqrt(number))"
      ],
      "execution_count": null,
      "outputs": [
        {
          "output_type": "stream",
          "text": [
            "Vui lòng nhập số cần tính căn bậc hai!\n",
            "16\n",
            "Căn bậc hai của số  16.0  là:  4.0\n"
          ],
          "name": "stdout"
        }
      ]
    },
    {
      "cell_type": "markdown",
      "metadata": {
        "id": "79zQGrU5Od-d"
      },
      "source": [
        "Bài 4: Nhập 2 số từ bàn phím và thực hiện các phép so sánh sau giữa 2 số:\n",
        "\n",
        "\n",
        "\n",
        "1.   $ \\geq $\n",
        "2.   $ \\leq $\n",
        "3.   $ > $\n",
        "4.   $ < $\n",
        "5.   $ \\neq $\n",
        "\n",
        "Kết quả xuất ra màn hình\n"
      ]
    },
    {
      "cell_type": "code",
      "metadata": {
        "id": "qePknJEaP1tL",
        "colab": {
          "base_uri": "https://localhost:8080/"
        },
        "outputId": "66947f8b-baa1-47ce-e008-487bc43894d7"
      },
      "source": [
        "x = input(\"x=\")\n",
        "y = input(\"y=\")\n",
        "x= int(x)\n",
        "y=int(y)\n",
        "print('x > y is', x > y)\n",
        "print('x < y is', x < y)\n",
        "print('x == y is', x == y)\n",
        "print('x != y is', x != y)\n",
        "print('x >= y is', x >= y)\n",
        "print('x <= y is', x <= y)\n",
        "\n",
        "\n",
        "\n"
      ],
      "execution_count": null,
      "outputs": [
        {
          "output_type": "stream",
          "text": [
            "x=5\n",
            "y=2\n",
            "x > y is True\n",
            "x < y is False\n",
            "x == y is False\n",
            "x != y is True\n",
            "x >= y is True\n",
            "x <= y is False\n"
          ],
          "name": "stdout"
        }
      ]
    },
    {
      "cell_type": "markdown",
      "metadata": {
        "id": "90lU8sTXP4hu"
      },
      "source": [
        "Bài 5: Nhập 1 chuỗi ký tự từ bàn phím:\n",
        "\n",
        "\n",
        "\n",
        "1.   Chuyển thành chuỗi in hoa\n",
        "2.   Chuyển thành chuỗi in thường\n",
        "\n",
        "Kết quả xuất ra màn hình\n",
        "\n",
        "\n",
        "\n"
      ]
    },
    {
      "cell_type": "code",
      "metadata": {
        "id": "PWIIssukQXja",
        "colab": {
          "base_uri": "https://localhost:8080/"
        },
        "outputId": "993fe390-daa3-468f-91cd-da8abd5c1740"
      },
      "source": [
        "#Chuyển thành chuỗi in hoa\n",
        "\n",
        "str1 = input(\"str1=\")\n",
        "print ('Chuyển thành chuỗi in hoa  ',str1.upper())\n",
        "\n",
        "\n"
      ],
      "execution_count": null,
      "outputs": [
        {
          "output_type": "stream",
          "text": [
            "str1=ron\n",
            "Chuyển thành chuỗi in hoa   RON\n"
          ],
          "name": "stdout"
        }
      ]
    },
    {
      "cell_type": "markdown",
      "metadata": {
        "id": "gv9n9-gMQZ7O"
      },
      "source": [
        "Bài 6: Xuất ra màn hình 1 chuỗi ký từ nằm trên nhiều hàng (có thể là 1 bài thơ tùy ý bạn lựa chọn)"
      ]
    },
    {
      "cell_type": "code",
      "metadata": {
        "id": "ZcjBCkQOQoS0",
        "colab": {
          "base_uri": "https://localhost:8080/"
        },
        "outputId": "bb6676b4-ea01-40e6-b307-8e41629be001"
      },
      "source": [
        "#Chuyển thành chuỗi in thường\n",
        "\n",
        "str1 = input(\"str1=\")\n",
        "print ('Chuyển thành chuỗi in thường',str1.title())\n",
        "\n",
        "\n",
        "\n"
      ],
      "execution_count": null,
      "outputs": [
        {
          "output_type": "stream",
          "text": [
            "str1=RON\n",
            "Chuyển thành chuỗi in thường Ron\n"
          ],
          "name": "stdout"
        }
      ]
    }
  ]
}