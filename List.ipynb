{
  "nbformat": 4,
  "nbformat_minor": 0,
  "metadata": {
    "colab": {
      "name": "List.ipynb",
      "provenance": [],
      "authorship_tag": "ABX9TyMeh2+KcRKgpvRJO2z4iz8o",
      "include_colab_link": true
    },
    "kernelspec": {
      "name": "python3",
      "display_name": "Python 3"
    }
  },
  "cells": [
    {
      "cell_type": "markdown",
      "metadata": {
        "id": "view-in-github",
        "colab_type": "text"
      },
      "source": [
        "<a href=\"https://colab.research.google.com/github/ronngo/Pythonbasics/blob/main/List.ipynb\" target=\"_parent\"><img src=\"https://colab.research.google.com/assets/colab-badge.svg\" alt=\"Open In Colab\"/></a>"
      ]
    },
    {
      "cell_type": "code",
      "metadata": {
        "colab": {
          "base_uri": "https://localhost:8080/"
        },
        "id": "-uiV5IUFJNAR",
        "outputId": "0ec15961-0eb0-427c-df0c-9b4bee6d3333"
      },
      "source": [
        "#Tạo một biến x kiểu List rỗng\r\n",
        "\r\n",
        "x = []\r\n",
        "print (x)"
      ],
      "execution_count": 1,
      "outputs": [
        {
          "output_type": "stream",
          "text": [
            "[]\n"
          ],
          "name": "stdout"
        }
      ]
    },
    {
      "cell_type": "code",
      "metadata": {
        "colab": {
          "base_uri": "https://localhost:8080/"
        },
        "id": "_Q7YTgpqJV2a",
        "outputId": "c781d5a2-b5a6-4aa5-ef53-09122561cdc0"
      },
      "source": [
        "#Thêm giá trị 18 vào x\r\n",
        "\r\n",
        "x = []\r\n",
        "x.append(18)\r\n",
        "print (x)"
      ],
      "execution_count": 2,
      "outputs": [
        {
          "output_type": "stream",
          "text": [
            "[18]\n"
          ],
          "name": "stdout"
        }
      ]
    },
    {
      "cell_type": "code",
      "metadata": {
        "id": "qyVZQNHpKN3A"
      },
      "source": [
        "3) Thêm giá trị \"Huế\" vào x\r\n",
        "4) Tạo 1 List  y = [12, 45, -1, -0.56, \"abc\"]\r\n",
        "5) Thêm y vào x\r\n",
        "6) Xuất giá trị của x ra màn hình\r\n",
        "7) In ra màn hình giá trị của phần tử cuối cùng và phần tử đầu tiên của x\r\n",
        "8) In ra màn hình giá trị của phần tử đầu tiên đến phần tử thứ 5 của x\r\n",
        "9) In ra màn hình giá trị của phần từ thứ 3 đến cuối cùng của x\r\n",
        "\r\n",
        "\r\n"
      ],
      "execution_count": null,
      "outputs": []
    },
    {
      "cell_type": "code",
      "metadata": {
        "colab": {
          "base_uri": "https://localhost:8080/"
        },
        "id": "cWjy2eXpKb-n",
        "outputId": "5dc5d258-ca4d-4226-ee87-83260589a94c"
      },
      "source": [
        "x  = [18,\"hue\"]\r\n",
        "y = [12, 45, -1, -0.56, \"abc\"]\r\n",
        "x.extend(y)\r\n",
        "print (x)"
      ],
      "execution_count": 4,
      "outputs": [
        {
          "output_type": "stream",
          "text": [
            "[18, 'hue', 12, 45, -1, -0.56, 'abc']\n"
          ],
          "name": "stdout"
        }
      ]
    },
    {
      "cell_type": "code",
      "metadata": {
        "colab": {
          "base_uri": "https://localhost:8080/"
        },
        "id": "y3BLk90pKgsv",
        "outputId": "327c76fb-0e93-4737-e5d9-4f928674f0a8"
      },
      "source": [
        "x  = [18,\"hue\",13,123,1232,32,231,12]\r\n",
        "\r\n",
        "print (x[0],x[7])"
      ],
      "execution_count": 5,
      "outputs": [
        {
          "output_type": "stream",
          "text": [
            "18 12\n"
          ],
          "name": "stdout"
        }
      ]
    },
    {
      "cell_type": "code",
      "metadata": {
        "colab": {
          "base_uri": "https://localhost:8080/"
        },
        "id": "7HuDUomHKkOv",
        "outputId": "7aaeeab2-fc82-4954-fda7-9ebf5d51fb88"
      },
      "source": [
        "x  = [18,\"hue\",13,123,1232,32,231,12]\r\n",
        "print(x[0:5])"
      ],
      "execution_count": 6,
      "outputs": [
        {
          "output_type": "stream",
          "text": [
            "[18, 'hue', 13, 123, 1232]\n"
          ],
          "name": "stdout"
        }
      ]
    },
    {
      "cell_type": "code",
      "metadata": {
        "colab": {
          "base_uri": "https://localhost:8080/"
        },
        "id": "vMIGdHAvKmp3",
        "outputId": "ac5771b3-a979-4730-a778-9413bbceb797"
      },
      "source": [
        "x  = [18,\"hue\",13,123,1232,32,231,12]\r\n",
        "print(x[3:8])"
      ],
      "execution_count": 7,
      "outputs": [
        {
          "output_type": "stream",
          "text": [
            "[123, 1232, 32, 231, 12]\n"
          ],
          "name": "stdout"
        }
      ]
    }
  ]
}